{
  "nbformat": 4,
  "nbformat_minor": 0,
  "metadata": {
    "colab": {
      "provenance": [],
      "authorship_tag": "ABX9TyOynQq92GDt13pviu1f/PVI",
      "include_colab_link": true
    },
    "kernelspec": {
      "name": "python3",
      "display_name": "Python 3"
    },
    "language_info": {
      "name": "python"
    }
  },
  "cells": [
    {
      "cell_type": "markdown",
      "metadata": {
        "id": "view-in-github",
        "colab_type": "text"
      },
      "source": [
        "<a href=\"https://colab.research.google.com/github/CodeHunterOfficial/DL-for-beginers/blob/main/%D0%9A%D0%A0_%D0%90%D1%80%D0%B0%D0%B1%D0%BE%D0%B2.ipynb\" target=\"_parent\"><img src=\"https://colab.research.google.com/assets/colab-badge.svg\" alt=\"Open In Colab\"/></a>"
      ]
    },
    {
      "cell_type": "markdown",
      "source": [
        "#Линейная регрессия"
      ],
      "metadata": {
        "id": "lvbfpxcZ3gQR"
      }
    },
    {
      "cell_type": "markdown",
      "source": [
        "**Пример**. Прогнозирование цен на недвижимость. Для начала, давайте рассмотрим пример прогнозирования цен на недвижимость на основе данных о количестве комнат, площади дома и расстоянии до ближайшего метро."
      ],
      "metadata": {
        "id": "GVb5AVlf305V"
      }
    },
    {
      "cell_type": "code",
      "source": [
        "import pandas as pd\n",
        "from sklearn.linear_model import LinearRegression\n",
        "from sklearn.metrics import mean_absolute_error\n",
        "\n",
        "# Создаем датасет\n",
        "data = {'num_rooms': [2, 3, 1, 2, 3],\n",
        "        'house_size': [80, 120, 50, 70, 100],\n",
        "        'distance_to_subway': [0.5, 1.2, 0.8, 1.5, 2.0],\n",
        "        'price': [150000, 250000, 100000, 130000, 220000]}\n",
        "df = pd.DataFrame(data)\n",
        "\n",
        "# Определение независимых и зависимых переменных\n",
        "X = df[['num_rooms', 'house_size', 'distance_to_subway']]\n",
        "y = df['price']\n",
        "\n",
        "# Создание модели линейной регрессии\n",
        "model = LinearRegression()\n",
        "\n",
        "# Обучение модели на данных\n",
        "model.fit(X, y)\n",
        "\n",
        "# Прогнозирование цены дома на основе его характеристик\n",
        "new_data = [[3, 120, 1.5], [2, 80, 0.6]]\n",
        "predicted_prices = model.predict(new_data)\n",
        "print(predicted_prices)"
      ],
      "metadata": {
        "colab": {
          "base_uri": "https://localhost:8080/"
        },
        "id": "6glBcEV93e9I",
        "outputId": "58e1ba92-8296-412b-b44c-d924fe948094"
      },
      "execution_count": 18,
      "outputs": [
        {
          "output_type": "stream",
          "name": "stdout",
          "text": [
            "[259829.54545455 150625.        ]\n"
          ]
        },
        {
          "output_type": "stream",
          "name": "stderr",
          "text": [
            "/usr/local/lib/python3.10/dist-packages/sklearn/base.py:439: UserWarning: X does not have valid feature names, but LinearRegression was fitted with feature names\n",
            "  warnings.warn(\n"
          ]
        }
      ]
    },
    {
      "cell_type": "markdown",
      "source": [
        "# 1) Создание нового датасета."
      ],
      "metadata": {
        "id": "0xZPDzz4398k"
      }
    },
    {
      "cell_type": "code",
      "execution_count": 1,
      "metadata": {
        "colab": {
          "base_uri": "https://localhost:8080/",
          "height": 472
        },
        "id": "fLjVcPPMShIY",
        "outputId": "6d4a4451-5c50-4cdd-d910-c4413dc7bcd4"
      },
      "outputs": [
        {
          "output_type": "display_data",
          "data": {
            "text/plain": [
              "<Figure size 640x480 with 1 Axes>"
            ],
            "image/png": "[encoded data removed]"
          },
          "metadata": {}
        }
      ],
      "source": [
        "import numpy as np\n",
        "import pandas as pd\n",
        "import matplotlib.pyplot as plt\n",
        "\n",
        "dataset_size=100\n",
        "# Создание временного ряда\n",
        "t = np.arange(0, dataset_size, 0.1)\n",
        "y = np.sin(t) + 0.5 * t + np.random.normal(0, 0.2, len(t))\n",
        "\n",
        "# Добавление сезонности\n",
        "season = np.sin(t/10) + np.sin(t/5) + np.sin(t/2)\n",
        "y += season\n",
        "\n",
        "# Построение графика временного ряда\n",
        "plt.plot(t, y)\n",
        "plt.xlabel('Время')\n",
        "plt.ylabel('Значение')\n",
        "plt.title('Временной ряд')\n",
        "plt.grid(True)\n",
        "plt.show()\n",
        "\n",
        "# Разделение на обучающую и тестовую выборки\n",
        "train_size = int(len(y) * 0.8)\n",
        "train_data, test_data = y[:train_size], y[train_size:]\n",
        "\n",
        "# Создание окон для обучения и тестирования\n",
        "window_size = 10\n",
        "\n",
        "def create_dataset(data):\n",
        "    X, y = [], []\n",
        "    for i in range(len(data)-window_size):\n",
        "        X.append(data[i:i+window_size])\n",
        "        y.append(data[i+window_size])\n",
        "    return np.array(X), np.array(y)\n",
        "\n",
        "X_train, y_train = create_dataset(train_data)\n",
        "X_test, y_test = create_dataset(test_data)\n",
        "\n",
        "# Сохранение наборов обучающих и тестовых данных\n",
        "np.save('train_data.npy', train_data)\n",
        "np.save('test_data.npy', test_data)\n"
      ]
    },
    {
      "cell_type": "code",
      "source": [
        "import numpy as np\n",
        "import pandas as pd\n",
        "from statsmodels.tsa.stattools import adfuller, kpss\n",
        "\n",
        "# Загрузка данных\n",
        "y = np.load('train_data.npy')\n",
        "\n",
        "# Проверка критерия Дики-Фуллера (ADF)\n",
        "result_adf = adfuller(y)\n",
        "print('ADF статистика:', result_adf[0])\n",
        "print('p-value:', result_adf[1])\n",
        "print('Критическое значение:', result_adf[4])\n",
        "\n",
        "# Проверка теста KPSS\n",
        "result_kpss = kpss(y)\n",
        "print('\\nKPSS статистика:', result_kpss[0])\n",
        "print('p-value:', result_kpss[1])\n",
        "print('Критическое значение:', result_kpss[3])\n"
      ],
      "metadata": {
        "colab": {
          "base_uri": "https://localhost:8080/"
        },
        "id": "lfPMwqZcRJdP",
        "outputId": "27f72d4e-00fa-477f-884d-00c962bb73b7"
      },
      "execution_count": 2,
      "outputs": [
        {
          "output_type": "stream",
          "name": "stdout",
          "text": [
            "ADF статистика: 0.32481417451916844\n",
            "p-value: 0.9784547378985915\n",
            "Критическое значение: {'1%': -3.438783171038672, '5%': -2.865262118650577, '10%': -2.568752018688748}\n",
            "\n",
            "KPSS статистика: 4.23375284092227\n",
            "p-value: 0.01\n",
            "Критическое значение: {'10%': 0.347, '5%': 0.463, '2.5%': 0.574, '1%': 0.739}\n"
          ]
        },
        {
          "output_type": "stream",
          "name": "stderr",
          "text": [
            "<ipython-input-2-93a3731d7bdb>:15: InterpolationWarning: The test statistic is outside of the range of p-values available in the\n",
            "look-up table. The actual p-value is smaller than the p-value returned.\n",
            "\n",
            "  result_kpss = kpss(y)\n"
          ]
        }
      ]
    },
    {
      "cell_type": "markdown",
      "source": [
        "По результатам тестов:\n",
        "\n",
        "1. Для теста Дики-Фуллера (ADF):\n",
        "   - ADF статистика: 0.3248\n",
        "   - p-value: 0.9785\n",
        "   - Критическое значение: {'1%': -3.4388, '5%': -2.8653, '10%': -2.5688}\n",
        "   - Вывод: Тест Дики-Фуллера не отвергает нулевую гипотезу о наличии единичного корня, что указывает на нестационарность временного ряда.\n",
        "\n",
        "2. Для теста KPSS:\n",
        "   - KPSS статистика: 4.2338\n",
        "   - p-value: 0.01\n",
        "   - Критическое значение: {'10%': 0.347, '5%': 0.463, '2.5%': 0.574, '1%': 0.739}\n",
        "   - Вывод: Тест KPSS отвергает нулевую гипотезу о стационарности временного ряда.\n",
        "\n",
        "Исходя из результатов, можно сделать вывод о нестационарности временного ряда на основе обоих тестов."
      ],
      "metadata": {
        "id": "zSZtpRNcTpsQ"
      }
    },
    {
      "cell_type": "markdown",
      "source": [
        "Данный код выполняет несколько задач, связанных с созданием временного ряда, добавлением сезонности, построением графика временного ряда, разделением на обучающую и тестовую выборки, созданием окон для обучения и тестирования, а также сохранением наборов обучающих и тестовых данных в файлы формата .npy. Давайте разберем каждый шаг подробнее:\n",
        "\n",
        "1. **Создание временного ряда:**\n",
        "   - Импортируются библиотеки `numpy`, `pandas` и `matplotlib.pyplot`.\n",
        "   - Создается временной ряд `t` с шагом 0.1 от 0 до 100.\n",
        "   - Генерируется временной ряд `y` как сумма синуса от `t`, линейной функции `0.5 * t` и случайного шума с нормальным распределением.\n",
        "  \n",
        "2. **Добавление сезонности:**\n",
        "   - Создается сезонность `season` как сумма нескольких синусоидальных компонентов, зависящих от времени.\n",
        "   - Сезонность добавляется к исходному временному ряду `y`.\n",
        "\n",
        "3. **Построение графика временного ряда:**\n",
        "   - С помощью `matplotlib.pyplot` строится график временного ряда `y` в зависимости от `t`.\n",
        "   - На графике указываются подписи для осей, заголовок и включается сетка.\n",
        "\n",
        "4. **Разделение на обучающую и тестовую выборки:**\n",
        "   - Определяется размер обучающей выборки как 80% от всего временного ряда.\n",
        "   - Создаются обучающая и тестовая выборки на основе этого разделения.\n",
        "\n",
        "5. **Создание окон для обучения и тестирования:**\n",
        "   - Определяется размер окна для создания наборов данных для обучения и тестирования.\n",
        "   - Функция `create_dataset` создает наборы данных `X` и `y` путем формирования окон из исходных данных.\n",
        "\n",
        "6. **Сохранение наборов обучающих и тестовых данных:**\n",
        "   - Наборы обучающих и тестовых данных сохраняются в файлы формата .npy с помощью функции `np.save`.\n",
        "\n",
        "В результате выполнения этого кода будет создан график временного ряда, а также будут сохранены наборы обучающих и тестовых данных в файлы .npy."
      ],
      "metadata": {
        "id": "Y0IALbhD6NzA"
      }
    },
    {
      "cell_type": "code",
      "source": [
        "import numpy as np\n",
        "import pandas as pd\n",
        "import matplotlib.pyplot as plt\n",
        "from keras.models import Sequential\n",
        "from keras.layers import Dense, Conv1D, MaxPooling1D, Flatten\n",
        "from sklearn.metrics import r2_score, mean_absolute_error, mean_squared_error\n",
        "\n",
        "# Загрузка обучающего и тестового датасетов\n",
        "train_data = np.load('train_data.npy')\n",
        "test_data = np.load('test_data.npy')\n",
        "\n",
        "# Решейпинг данных\n",
        "X_train = X_train.reshape((X_train.shape[0], X_train.shape[1], 1))\n",
        "X_test = X_test.reshape((X_test.shape[0], X_test.shape[1], 1))\n",
        "\n",
        "# Создание модели\n",
        "model = Sequential([\n",
        "    Conv1D(32, 3, activation='relu', input_shape=(window_size, 1)),\n",
        "    Conv1D(32, 3, activation='relu'),\n",
        "    MaxPooling1D(pool_size=2),\n",
        "    Flatten(),\n",
        "    Dense(1)\n",
        "])\n",
        "model.compile(optimizer='adam', loss='mse')\n",
        "\n",
        "# Обучение модели\n",
        "model.fit(X_train, y_train, epochs=50, batch_size=16)\n",
        "\n",
        "# Сохранение весов модели\n",
        "model.save_weights('model_weights.h5')\n",
        "\n",
        "# Оценка модели на тестовых данных\n",
        "loss = model.evaluate(X_test, y_test)\n",
        "print(\"Потеря на тестовых данных:\", loss)\n",
        "\n",
        "# Прогнозы на тестовых данных\n",
        "y_pred = model.predict(X_test)\n",
        "\n",
        "# Вычисление MAE\n",
        "mae = mean_absolute_error(y_test, y_pred)\n",
        "\n",
        "# Вычисление MSE\n",
        "mse = mean_squared_error(y_test, y_pred)\n",
        "\n",
        "# Вычисление MAPE\n",
        "mape = np.mean(np.abs((y_test - y_pred) / y_test)) * 100\n",
        "\n",
        "# Вычисление RMSE\n",
        "rmse = np.sqrt(mse)\n",
        "\n",
        "# Вывод результатов\n",
        "print(\"MAE:\", mae)\n",
        "print(\"MSE:\", mse)\n",
        "print(\"MAPE:\", mape)\n",
        "print(\"RMSE:\", rmse)\n",
        "\n",
        "# Построение графика временного ряда\n",
        "plt.plot(t, y)\n",
        "plt.xlabel('Время')\n",
        "plt.ylabel('Значение')\n",
        "plt.title('Временной ряд')\n",
        "plt.show()\n",
        "\n",
        "# Построение графика реальных значений и предсказаний на тестовых данных\n",
        "y_test_pred = model.predict(X_test)\n",
        "plt.plot(y_test, label='Реальные значения')\n",
        "plt.plot(y_test_pred, label='Предсказания')\n",
        "plt.legend()\n",
        "plt.xlabel('Время')\n",
        "plt.ylabel('Значение')\n",
        "plt.title('Прогнозы на тестовых данных')\n",
        "plt.show()\n",
        "\n",
        "# Построение графика реальных значений и предсказаний на обучающих данных\n",
        "y_train_pred = model.predict(X_train)\n",
        "plt.plot(y_train, label='Реальные значения')\n",
        "plt.plot(y_train_pred, label='Предсказания')\n",
        "plt.legend()\n",
        "plt.xlabel('Время')\n",
        "plt.ylabel('Значение')\n",
        "plt.title('Прогнозы на обучающих данных')\n",
        "plt.show()"
      ],
      "metadata": {
        "colab": {
          "base_uri": "https://localhost:8080/"
        },
        "id": "qPFluhk6XV14",
        "outputId": "31f2c717-f0fb-40c9-b741-13c38b097e9d"
      },
      "execution_count": null,
      "outputs": [
        {
          "output_type": "stream",
          "name": "stdout",
          "text": [
            "Epoch 1/50\n",
            "50000/50000 [==============================] - 122s 2ms/step - loss: 28309.1562\n",
            "Epoch 2/50\n",
            "50000/50000 [==============================] - 122s 2ms/step - loss: 1131.0558\n",
            "Epoch 3/50\n",
            "50000/50000 [==============================] - 116s 2ms/step - loss: 864.7989\n",
            "Epoch 4/50\n",
            "50000/50000 [==============================] - 112s 2ms/step - loss: 798.2810\n",
            "Epoch 5/50\n",
            "50000/50000 [==============================] - 115s 2ms/step - loss: 871.2700\n",
            "Epoch 6/50\n",
            "50000/50000 [==============================] - 114s 2ms/step - loss: 809.2141\n",
            "Epoch 7/50\n",
            "50000/50000 [==============================] - 114s 2ms/step - loss: 679.3005\n",
            "Epoch 8/50\n",
            "50000/50000 [==============================] - 114s 2ms/step - loss: 702.9473\n",
            "Epoch 9/50\n",
            "50000/50000 [==============================] - 104s 2ms/step - loss: 557.7576\n",
            "Epoch 10/50\n",
            "50000/50000 [==============================] - 104s 2ms/step - loss: 528.4827\n",
            "Epoch 11/50\n",
            "50000/50000 [==============================] - 103s 2ms/step - loss: 452.6533\n",
            "Epoch 12/50\n",
            "50000/50000 [==============================] - 104s 2ms/step - loss: 346.1669\n",
            "Epoch 13/50\n",
            "50000/50000 [==============================] - 102s 2ms/step - loss: 339.5407\n",
            "Epoch 14/50\n",
            "50000/50000 [==============================] - 103s 2ms/step - loss: 340.8204\n",
            "Epoch 15/50\n",
            "50000/50000 [==============================] - 110s 2ms/step - loss: 299.0663\n",
            "Epoch 16/50\n",
            "50000/50000 [==============================] - 106s 2ms/step - loss: 277.3488\n",
            "Epoch 17/50\n",
            "50000/50000 [==============================] - 104s 2ms/step - loss: 242.0300\n",
            "Epoch 18/50\n",
            "50000/50000 [==============================] - 105s 2ms/step - loss: 224.9106\n",
            "Epoch 19/50\n",
            "50000/50000 [==============================] - 104s 2ms/step - loss: 223.8396\n",
            "Epoch 20/50\n",
            "50000/50000 [==============================] - 107s 2ms/step - loss: 204.3964\n",
            "Epoch 21/50\n",
            "50000/50000 [==============================] - 103s 2ms/step - loss: 221.9953\n",
            "Epoch 22/50\n",
            "50000/50000 [==============================] - 105s 2ms/step - loss: 208.3491\n",
            "Epoch 23/50\n",
            "50000/50000 [==============================] - 106s 2ms/step - loss: 166.6163\n",
            "Epoch 24/50\n",
            "50000/50000 [==============================] - 105s 2ms/step - loss: 169.4585\n",
            "Epoch 25/50\n",
            "50000/50000 [==============================] - 109s 2ms/step - loss: 164.8803\n",
            "Epoch 26/50\n",
            "50000/50000 [==============================] - 107s 2ms/step - loss: 179.6441\n",
            "Epoch 27/50\n",
            "50000/50000 [==============================] - 109s 2ms/step - loss: 171.3299\n",
            "Epoch 28/50\n",
            "50000/50000 [==============================] - 105s 2ms/step - loss: 189.5869\n",
            "Epoch 29/50\n",
            "50000/50000 [==============================] - 112s 2ms/step - loss: 149.1739\n",
            "Epoch 30/50\n",
            "50000/50000 [==============================] - 121s 2ms/step - loss: 160.8005\n",
            "Epoch 31/50\n",
            "50000/50000 [==============================] - 125s 2ms/step - loss: 180.1857\n",
            "Epoch 32/50\n",
            "50000/50000 [==============================] - 114s 2ms/step - loss: 154.2528\n",
            "Epoch 33/50\n",
            "50000/50000 [==============================] - 115s 2ms/step - loss: 173.9146\n",
            "Epoch 34/50\n",
            "50000/50000 [==============================] - 110s 2ms/step - loss: 147.2587\n",
            "Epoch 35/50\n",
            "50000/50000 [==============================] - 109s 2ms/step - loss: 164.6604\n",
            "Epoch 36/50\n",
            "50000/50000 [==============================] - 110s 2ms/step - loss: 159.8362\n",
            "Epoch 37/50\n",
            "50000/50000 [==============================] - 113s 2ms/step - loss: 167.1611\n",
            "Epoch 38/50\n",
            "50000/50000 [==============================] - 117s 2ms/step - loss: 162.3784\n",
            "Epoch 39/50\n",
            "50000/50000 [==============================] - 118s 2ms/step - loss: 161.3423\n",
            "Epoch 40/50\n",
            "50000/50000 [==============================] - 113s 2ms/step - loss: 143.9363\n",
            "Epoch 41/50\n",
            "50000/50000 [==============================] - 109s 2ms/step - loss: 171.2574\n",
            "Epoch 42/50\n",
            "50000/50000 [==============================] - 109s 2ms/step - loss: 161.0341\n",
            "Epoch 43/50\n",
            "50000/50000 [==============================] - 109s 2ms/step - loss: 128.8752\n",
            "Epoch 44/50\n",
            "50000/50000 [==============================] - 110s 2ms/step - loss: 143.9071\n",
            "Epoch 45/50\n",
            "50000/50000 [==============================] - 125s 3ms/step - loss: 136.0881\n",
            "Epoch 46/50\n",
            "50000/50000 [==============================] - 117s 2ms/step - loss: 146.1685\n",
            "Epoch 47/50\n",
            "50000/50000 [==============================] - 115s 2ms/step - loss: 161.3859\n",
            "Epoch 48/50\n",
            "50000/50000 [==============================] - 109s 2ms/step - loss: 133.7259\n",
            "Epoch 49/50\n",
            "50000/50000 [==============================] - 108s 2ms/step - loss: 127.7836\n",
            "Epoch 50/50\n",
            "50000/50000 [==============================] - 109s 2ms/step - loss: 135.4434\n",
            "6250/6250 [==============================] - 12s 2ms/step - loss: 0.2367\n",
            "Потеря на тестовых данных: 0.23669269680976868\n",
            "6250/6250 [==============================] - 11s 2ms/step\n"
          ]
        }
      ]
    },
    {
      "cell_type": "code",
      "source": [
        "from keras.utils import plot_model\n",
        "# Визуализация модели\n",
        "plot_model(model, to_file='model_plot.png', show_shapes=True, show_layer_names=True)"
      ],
      "metadata": {
        "id": "ZJ4Fs0TEI_kz"
      },
      "execution_count": null,
      "outputs": []
    },
    {
      "cell_type": "code",
      "source": [
        "import matplotlib.pyplot as plt\n",
        "\n",
        "# Загрузка сохраненных весов модели\n",
        "model.load_weights('model_weights.h5')\n",
        "\n",
        "# Количество временных шагов для прогнозирования\n",
        "future_steps = 20\n",
        "\n",
        "# Подготовка входных данных для прогноза\n",
        "input_data = test_data[-window_size:]\n",
        "input_data = input_data.reshape((1, window_size, 1))\n",
        "\n",
        "# Прогнозирование будущих значений\n",
        "predictions = []\n",
        "for _ in range(future_steps):\n",
        "    prediction = model.predict(input_data)\n",
        "    prediction = np.squeeze(prediction)\n",
        "    predictions.append(prediction)\n",
        "    input_data = np.concatenate((input_data[:, 1:, :], prediction.reshape(1, 1, 1)), axis=1)\n",
        "\n",
        "# Вывод прогнозируемых значений\n",
        "print(\"Прогнозируемые значения:\")\n",
        "print(predictions)\n",
        "\n",
        "# Построение графика\n",
        "plt.plot(range(len(test_data)), test_data, label='Оригинальный временной ряд')\n",
        "plt.plot(range(len(test_data), len(test_data) + future_steps), predictions, label='Прогнозируемые значения')\n",
        "plt.xlabel('Временные шаги')\n",
        "plt.ylabel('Значения')\n",
        "plt.title('Прогноз временного ряда')\n",
        "plt.legend()\n",
        "plt.show()\n"
      ],
      "metadata": {
        "id": "kP70tHZ9aNVY"
      },
      "execution_count": null,
      "outputs": []
    },
    {
      "cell_type": "markdown",
      "source": [
        "# Линейная регрессия"
      ],
      "metadata": {
        "id": "ofP8pXJLcefV"
      }
    },
    {
      "cell_type": "code",
      "source": [
        "import numpy as np\n",
        "import pandas as pd\n",
        "import matplotlib.pyplot as plt\n",
        "from sklearn.metrics import r2_score, mean_absolute_error, mean_squared_error\n",
        "from sklearn.linear_model import LinearRegression\n",
        "\n",
        "# Загрузка обучающего и тестового датасетов\n",
        "train_data = np.load('train_data.npy')\n",
        "test_data = np.load('test_data.npy')\n",
        "\n",
        "X_train, y_train = create_dataset(train_data)\n",
        "X_test, y_test = create_dataset(test_data)\n",
        "\n",
        "# Решейпинг данных\n",
        "X_train = np.reshape(X_train, (X_train.shape[0], X_train.shape[1]))\n",
        "X_test = np.reshape(X_test, (X_test.shape[0], X_test.shape[1]))\n",
        "\n",
        "# Создание модели линейной регрессии\n",
        "model = LinearRegression()\n",
        "\n",
        "# Обучение модели\n",
        "model.fit(X_train, y_train)\n",
        "\n",
        "# Оценка модели на тестовых данных\n",
        "y_pred = model.predict(X_test)\n",
        "\n",
        "# Вычисление MAE\n",
        "mae = mean_absolute_error(y_test, y_pred)\n",
        "\n",
        "# Вычисление MSE\n",
        "mse = mean_squared_error(y_test, y_pred)\n",
        "\n",
        "# Вычисление MAPE\n",
        "mape = np.mean(np.abs((y_test - y_pred) / y_test)) * 100\n",
        "\n",
        "# Вычисление RMSE\n",
        "rmse = np.sqrt(mse)\n",
        "\n",
        "# Вывод результатов\n",
        "print(\"MAE:\", mae)\n",
        "print(\"MSE:\", mse)\n",
        "print(\"MAPE:\", mape)\n",
        "print(\"RMSE:\", rmse)\n",
        "\n",
        "# Построение графика реальных значений и предсказаний на тестовых данных\n",
        "plt.plot(y_test, label='Реальные значения')\n",
        "plt.plot(y_pred, label='Предсказания')\n",
        "plt.legend()\n",
        "plt.xlabel('Время')\n",
        "plt.ylabel('Значение')\n",
        "plt.title('Прогнозы на тестовом наборе данных')\n",
        "plt.show()\n",
        "\n",
        "# Построение графика реальных значений и предсказаний на обучающих данных\n",
        "y_train_pred = model.predict(X_train)\n",
        "plt.plot(y_train, label='Реальные значения')\n",
        "plt.plot(y_train_pred, label='Предсказания')\n",
        "plt.legend()\n",
        "plt.xlabel('Время')\n",
        "plt.ylabel('Значение')\n",
        "plt.title('Прогнозы на обучающем наборе данных')\n",
        "plt.show()\n"
      ],
      "metadata": {
        "id": "nHwTnVS2ccmM"
      },
      "execution_count": null,
      "outputs": []
    }
  ]
}